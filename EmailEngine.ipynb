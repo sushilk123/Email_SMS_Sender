{
 "cells": [
  {
   "cell_type": "raw",
   "metadata": {},
   "source": [
    "Python comes with the built-in smtplib module for sending emails using the Simple Mail Transfer Protocol (SMTP). smtplib uses the RFC 821 protocol for SMTP. "
   ]
  },
  {
   "cell_type": "markdown",
   "metadata": {},
   "source": [
    "There are several scenarios when you want to automate your application with python. Few of them are:\n",
    "1. You want receive email reminders from your code, \n",
    "2. Send a confirmation email to users when they create an account\n",
    "3. Send emails to members of your organization to remind them to pay their dues."
   ]
  },
  {
   "cell_type": "markdown",
   "metadata": {},
   "source": [
    "Steps:\n",
    "1. Setting up a Gmail Account for Development\n",
    "2. Install the Google Client Library (pip install --upgrade google-api-python-client google-auth-httplib2 google-auth-oauthlib)\n",
    "3. Follow steps on https://developers.google.com/calendar/quickstart/python to give a quickstart to your development account.\n",
    "4. Set up a Local SMTP Server\n",
    "5. Starting a Secure SMTP Connection\n",
    "\n",
    "    When you send emails through Python, you should make sure that your SMTP connection is encrypted, so that your message and login credentials are not easily accessed by others. SSL (Secure Sockets Layer) and TLS (Transport Layer Security) are two protocols that can be used to encrypt an SMTP connection.\n",
    "    \n",
    "    There are two ways to start a secure connection with your email server:\n",
    "    \n",
    "    1. Start an unsecured SMTP connection that can then be encrypted using .starttls().\n",
    "    2. Start an SMTP connection that is secured from the beginning using SMTP_SSL().\n",
    "    \n",
    "   In both instances, Gmail will encrypt emails using TLS, as this is the more secure successor of SSL."
   ]
  },
  {
   "cell_type": "code",
   "execution_count": 19,
   "metadata": {},
   "outputs": [
    {
     "name": "stdout",
     "output_type": "stream",
     "text": [
      "Success!\n"
     ]
    }
   ],
   "source": [
    "import smtplib,ssl  #Python’s built-in module for sending emails to any Internet machine with an SMTP or ESMTP listener daemon.\n",
    "import os\n",
    "\n",
    "TO = 'sushilkhairnar84@gmail.com'\n",
    "FROM = 'sushilk.development@gmail.com' # (You should provide your gmail account name)\n",
    "PASSWORD = os.environ['SUSHIL_PASSWORD']# (You should provide your gmail password)\n",
    "smtpserver = smtplib.SMTP(\"smtp.gmail.com\",587)\n",
    "context = ssl.create_default_context() # Create a secure SSL context\n",
    "\n",
    "# Try to log in to server and send email\n",
    "try:\n",
    "    smtpserver.ehlo()  # (Extended Hello)=>  tells the server that the client want to use the Extended SMTP (ESMTP) protocol.\n",
    "    smtpserver.starttls(context=context) #(Start Transport Layer Security)\n",
    "    smtpserver.ehlo\n",
    "    smtpserver.login(FROM, PASSWORD)\n",
    "    header = 'To: ' + TO + '\\n' + 'From: ' + FROM + '\\n' + 'Subject: Test Email \\n'\n",
    "    text = f'''\n",
    "    Hi {TO.split(\"@\")[0]},\n",
    "    \n",
    "    This is a test mail.\n",
    "    \n",
    "    Regards,\n",
    "    Sushil\n",
    "    www.sushilkhairnar.com\n",
    "    '''\n",
    "    MESSAGE = header + text\n",
    "    smtpserver.sendmail(FROM, TO, MESSAGE)\n",
    "except Exception as e:\n",
    "    # Print any error messages to stdout\n",
    "    print(e)\n",
    "print('Success!')\n",
    "smtpserver.close()"
   ]
  },
  {
   "cell_type": "code",
   "execution_count": 25,
   "metadata": {},
   "outputs": [
    {
     "data": {
      "text/html": [
       "<img src=\"email_1.png\"/>"
      ],
      "text/plain": [
       "<IPython.core.display.Image object>"
      ]
     },
     "execution_count": 25,
     "metadata": {},
     "output_type": "execute_result"
    }
   ],
   "source": [
    "from IPython.display import Image\n",
    "Image(url='email_1.png')"
   ]
  },
  {
   "cell_type": "raw",
   "metadata": {},
   "source": [
    "#2. Using SMTP_SSL()\n",
    "\n",
    "import smtplib, ssl, os\n",
    "TO = 'sushilkhairnar84@gmail.com'\n",
    "FROM = 'sushilk.development@gmail.com' # (You should provide your gmail account name)\n",
    "PASSWORD = os.environ['SUSHIL_PASSWORD']# (You should provide your gmail password)\n",
    "port = 465  # For SSL\n",
    "# Create a secure SSL context\n",
    "context = ssl.create_default_context()\n",
    "with smtplib.SMTP_SSL(\"smtp.gmail.com\", port, context=context) as server:\n",
    "    server.login(FROM, PASSWORD) # Email should be your email and password could be invisible while typing\n",
    "    server.sendmail(FROM, TO, MESSAGE)"
   ]
  },
  {
   "cell_type": "markdown",
   "metadata": {},
   "source": [
    "### Including HTML Content"
   ]
  },
  {
   "cell_type": "markdown",
   "metadata": {},
   "source": [
    "Most common type of email is the MIME (Multipurpose Internet Mail Extensions) Multipart email, combining HTML and plain-text. MIME messages are handled by Python’s email.mime module.(https://docs.python.org/3/library/email.mime.html)"
   ]
  },
  {
   "cell_type": "code",
   "execution_count": 23,
   "metadata": {},
   "outputs": [],
   "source": [
    "import smtplib, ssl\n",
    "from email.mime.text import MIMEText\n",
    "from email.mime.multipart import MIMEMultipart\n",
    "\n",
    "TO = 'sushilkhairnar84@gmail.com'\n",
    "FROM = 'sushilk.development@gmail.com' \n",
    "PASSWORD = os.environ['SUSHIL_PASSWORD']\n",
    "\n",
    "'''\n",
    "MIMEText() objects will contain the HTML and plain-text versions of our message.\n",
    "MIMEMultipart(\"alternative\") instance combines these into a single message with two alternative rendering options.\n",
    "'''\n",
    "\n",
    "message = MIMEMultipart(\"alternative\")\n",
    "\n",
    "message[\"Subject\"] = \"MIMEMultipart Test\"\n",
    "message[\"From\"] = FROM\n",
    "message[\"To\"] = TO\n",
    "#message[\"Bcc\"] = TO  # Recommended for mass email\n",
    "\n",
    "# Create the plain-text and HTML version of your message\n",
    "text = f'''\n",
    "    Hi {TO.split(\"@\")[0]},\n",
    "    \n",
    "    This is a test mail.\n",
    "    \n",
    "    Regards,\n",
    "    Sushil\n",
    "    www.sushilkhairnar.com\n",
    "    '''\n",
    "\n",
    "html = \"\"\"\\\n",
    "<html>\n",
    "  <body>\n",
    "    <p>Hi,<br>\n",
    "       How how you?<br>\n",
    "       Please, visit my website by clicking <a href=\"https://www.sushilkhairnar.com\">Here. </a> \n",
    "    </p>\n",
    "  </body>\n",
    "</html>\n",
    "\"\"\"\n",
    "# Turn these into plain/html MIMEText objects\n",
    "part1 = MIMEText(text, \"plain\")\n",
    "part2 = MIMEText(html, \"html\")\n",
    "# Add HTML/plain-text parts to MIMEMultipart message\n",
    "# The email client will try to render the last part first\n",
    "message.attach(part1)\n",
    "message.attach(part2)\n",
    "# Create secure connection with server and send email\n",
    "context = ssl.create_default_context()\n",
    "with smtplib.SMTP_SSL(\"smtp.gmail.com\", 465, context=context) as server:\n",
    "    server.login(FROM, PASSWORD)\n",
    "    server.sendmail(\n",
    "        FROM, TO, message.as_string()\n",
    "    )"
   ]
  },
  {
   "cell_type": "code",
   "execution_count": 29,
   "metadata": {},
   "outputs": [
    {
     "data": {
      "text/html": [
       "<img src=\"email_2.png\"/>"
      ],
      "text/plain": [
       "<IPython.core.display.Image object>"
      ]
     },
     "execution_count": 29,
     "metadata": {},
     "output_type": "execute_result"
    }
   ],
   "source": [
    "'''\n",
    "1st email output:\n",
    "\n",
    "message.attach(part1)\n",
    "message.attach(part2)\n",
    "\n",
    "2nd email output:\n",
    "\n",
    "message.attach(part2)\n",
    "message.attach(part1)\n",
    "'''\n",
    "Image(url='email_2.png')"
   ]
  },
  {
   "cell_type": "code",
   "execution_count": 26,
   "metadata": {},
   "outputs": [],
   "source": [
    "# Here, we don't pass any parameter to MIMEMultipart(). => This would combine both text and html into a single email\n",
    "import smtplib, ssl\n",
    "from email.mime.text import MIMEText\n",
    "from email.mime.multipart import MIMEMultipart\n",
    "\n",
    "TO = 'sushilkhairnar84@gmail.com'\n",
    "FROM = 'sushilk.development@gmail.com' \n",
    "PASSWORD = os.environ['SUSHIL_PASSWORD']\n",
    "\n",
    "message = MIMEMultipart()\n",
    "\n",
    "message[\"Subject\"] = \"MIMEMultipart Test 2\"\n",
    "message[\"From\"] = FROM\n",
    "message[\"To\"] = TO\n",
    "# Create the plain-text and HTML version of your message\n",
    "text = f'''\n",
    "    Hi {TO.split(\"@\")[0]},\n",
    "    \n",
    "    This is a test mail.\n",
    "    \n",
    "    Regards,\n",
    "    Sushil\n",
    "    www.sushilkhairnar.com\n",
    "    '''\n",
    "\n",
    "html = \"\"\"\\\n",
    "<html>\n",
    "  <body>\n",
    "    <p>Hi,<br>\n",
    "       How how you?<br>\n",
    "       Please, visit my website by clicking <a href=\"https://www.sushilkhairnar.com\">Here. </a> \n",
    "    </p>\n",
    "  </body>\n",
    "</html>\n",
    "\"\"\"\n",
    "# Turn these into plain/html MIMEText objects\n",
    "part1 = MIMEText(text, \"plain\")\n",
    "part2 = MIMEText(html, \"html\")\n",
    "# Add HTML/plain-text parts to MIMEMultipart message\n",
    "# The email client will try to render the last part first\n",
    "message.attach(part1)\n",
    "message.attach(part2)\n",
    "# Create secure connection with server and send email\n",
    "context = ssl.create_default_context()\n",
    "with smtplib.SMTP_SSL(\"smtp.gmail.com\", 465, context=context) as server:\n",
    "    server.login(FROM, PASSWORD)\n",
    "    server.sendmail(\n",
    "        FROM, TO, message.as_string()\n",
    "    )"
   ]
  },
  {
   "cell_type": "code",
   "execution_count": 28,
   "metadata": {},
   "outputs": [
    {
     "data": {
      "text/html": [
       "<img src=\"email_3.png\"/>"
      ],
      "text/plain": [
       "<IPython.core.display.Image object>"
      ]
     },
     "execution_count": 28,
     "metadata": {},
     "output_type": "execute_result"
    }
   ],
   "source": [
    "Image(url='email_3.png')"
   ]
  },
  {
   "cell_type": "markdown",
   "metadata": {},
   "source": [
    "### Adding Attachments Using the email Package"
   ]
  },
  {
   "cell_type": "markdown",
   "metadata": {},
   "source": [
    "In order to send binary files to an email server that is designed to work with textual data, they need to be encoded before transport. This is most commonly done using base64, which encodes binary data into printable ASCII characters.\n",
    "The code example below shows how to send an email with a PDF file as an attachment:"
   ]
  },
  {
   "cell_type": "code",
   "execution_count": 32,
   "metadata": {},
   "outputs": [],
   "source": [
    "from email import encoders\n",
    "from email.mime.base import MIMEBase\n",
    "from email.mime.multipart import MIMEMultipart\n",
    "from email.mime.text import MIMEText\n",
    "\n",
    "TO = 'sushilkhairnar84@gmail.com'\n",
    "FROM = 'sushilk.development@gmail.com' \n",
    "PASSWORD = os.environ['SUSHIL_PASSWORD']\n",
    "BODY= \"This is an email with attachment sent from Python\"\n",
    "\n",
    "\n",
    "# Create a multipart message and set headers\n",
    "message = MIMEMultipart()\n",
    "message[\"Subject\"] = \"MIMEMultipart with Attachment\"\n",
    "message[\"From\"] = FROM\n",
    "message[\"To\"] = TO\n",
    "\n",
    "\n",
    "# Add body to email\n",
    "message.attach(MIMEText(BODY, \"plain\"))\n",
    "\n",
    "filename = \"SUSHILResume_2.pdf\"  # In same directory as script with your .pdf file\n",
    "\n",
    "# Open PDF file in binary mode\n",
    "with open(filename, \"rb\") as attachment:\n",
    "    # Add file as application/octet-stream\n",
    "    # Email client can usually download this automatically as attachment\n",
    "    part = MIMEBase(\"application\", \"octet-stream\")\n",
    "    part.set_payload(attachment.read())\n",
    "# Encode file in ASCII characters to send by email    \n",
    "encoders.encode_base64(part)\n",
    "# Add header as key/value pair to attachment part\n",
    "part.add_header(\n",
    "    \"Content-Disposition\",\n",
    "    f\"attachment; filename= {filename}\",\n",
    ")\n",
    "\n",
    "# Add attachment to message and convert message to string\n",
    "message.attach(part)\n",
    "\n",
    "# Create secure connection with server and send email\n",
    "context = ssl.create_default_context()\n",
    "with smtplib.SMTP_SSL(\"smtp.gmail.com\", 465, context=context) as server:\n",
    "    server.login(FROM, PASSWORD)\n",
    "    server.sendmail(\n",
    "        FROM, TO, message.as_string()\n",
    "    )"
   ]
  },
  {
   "cell_type": "code",
   "execution_count": 33,
   "metadata": {},
   "outputs": [
    {
     "data": {
      "text/html": [
       "<img src=\"email_4.png\"/>"
      ],
      "text/plain": [
       "<IPython.core.display.Image object>"
      ]
     },
     "execution_count": 33,
     "metadata": {},
     "output_type": "execute_result"
    }
   ],
   "source": [
    "Image(url='email_4.png')"
   ]
  },
  {
   "cell_type": "code",
   "execution_count": null,
   "metadata": {},
   "outputs": [],
   "source": []
  }
 ],
 "metadata": {
  "kernelspec": {
   "display_name": "Python 3",
   "language": "python",
   "name": "python3"
  },
  "language_info": {
   "codemirror_mode": {
    "name": "ipython",
    "version": 3
   },
   "file_extension": ".py",
   "mimetype": "text/x-python",
   "name": "python",
   "nbconvert_exporter": "python",
   "pygments_lexer": "ipython3",
   "version": "3.8.5"
  }
 },
 "nbformat": 4,
 "nbformat_minor": 4
}
