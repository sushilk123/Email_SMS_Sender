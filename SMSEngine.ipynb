{
 "cells": [
  {
   "cell_type": "raw",
   "metadata": {},
   "source": [
    "SMS could be of type:\n",
    "1. OTP\n",
    "2. Transactional\n",
    "3. Promotional\n",
    "\n",
    "SMS Providers:\n",
    "1. Bitrix24\n",
    "2. aws.amazon\n",
    "3. twilio\n",
    "4. msg91\n",
    "5. fast2sms"
   ]
  },
  {
   "cell_type": "code",
   "execution_count": 11,
   "metadata": {},
   "outputs": [
    {
     "name": "stdout",
     "output_type": "stream",
     "text": [
      "{\"return\":true,\"request_id\":\"updbwseg7ik26xm\",\"message\":[\"Message sent successfully to NonDND numbers\"]}\n"
     ]
    }
   ],
   "source": [
    "#Send a Transactional SMS using fast2sms api\n",
    "import requests\n",
    "import os\n",
    "url = \"https://www.fast2sms.com/dev/bulk\"\n",
    "phone_number=\"9767362011\"\n",
    "authorization_key = os.environ['FAST2SMS_API_AUTHORIZATION_KEY']\n",
    "sender_id='SMSINI'\n",
    "message='''\n",
    "Hi, Have a Nice Day.\n",
    "\n",
    "Regards,\n",
    "Sushil\n",
    "'''\n",
    "payload = f\"sender_id={sender_id}&message={message}&language=english&route=p&numbers={phone_number}\"\n",
    "headers = {\n",
    "'authorization': authorization_key,\n",
    "'Content-Type': \"application/x-www-form-urlencoded\",\n",
    "'Cache-Control': \"no-cache\",\n",
    "}\n",
    "response = requests.request(\"POST\", url, data=payload, headers=headers)\n",
    "print(response.text)"
   ]
  },
  {
   "cell_type": "code",
   "execution_count": 12,
   "metadata": {},
   "outputs": [
    {
     "data": {
      "text/html": [
       "<img src=\"sms.jpg\" width=\"200\"/>"
      ],
      "text/plain": [
       "<IPython.core.display.Image object>"
      ]
     },
     "execution_count": 12,
     "metadata": {},
     "output_type": "execute_result"
    }
   ],
   "source": [
    "from IPython.display import Image\n",
    "Image(url='sms.jpg', width=200)"
   ]
  },
  {
   "cell_type": "code",
   "execution_count": null,
   "metadata": {},
   "outputs": [],
   "source": []
  }
 ],
 "metadata": {
  "kernelspec": {
   "display_name": "Python 3",
   "language": "python",
   "name": "python3"
  },
  "language_info": {
   "codemirror_mode": {
    "name": "ipython",
    "version": 3
   },
   "file_extension": ".py",
   "mimetype": "text/x-python",
   "name": "python",
   "nbconvert_exporter": "python",
   "pygments_lexer": "ipython3",
   "version": "3.8.5"
  }
 },
 "nbformat": 4,
 "nbformat_minor": 4
}
