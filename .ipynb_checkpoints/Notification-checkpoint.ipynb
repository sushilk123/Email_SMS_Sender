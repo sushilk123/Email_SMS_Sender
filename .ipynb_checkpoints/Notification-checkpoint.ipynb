{
 "cells": [
  {
   "cell_type": "markdown",
   "metadata": {},
   "source": [
    "In this project, I used Google Maps Platform's Distance Metrix API to analyse the traffic and calculate commute time, and when there's too much traffic, we use a bot to send automatic request to send notification about my status"
   ]
  },
  {
   "cell_type": "code",
   "execution_count": 1,
   "metadata": {},
   "outputs": [],
   "source": [
    "import requests\n",
    "import smtplib \n",
    "import os\n",
    "import Emaill\n",
    "api_key = os.environ['GOOGLE_API_KEY']"
   ]
  },
  {
   "cell_type": "code",
   "execution_count": 2,
   "metadata": {},
   "outputs": [
    {
     "name": "stdout",
     "output_type": "stream",
     "text": [
      "Enter a home address\n",
      "Viman Nagar\n",
      "Enter a work address\n",
      "Kothrud\n"
     ]
    }
   ],
   "source": [
    "# home address input\n",
    "home = input(\"Enter a home address\\n\") \n",
    "# work address input\n",
    "work = input(\"Enter a work address\\n\") \n"
   ]
  },
  {
   "cell_type": "markdown",
   "metadata": {},
   "source": [
    "The Distance Matrix API is a service that provides travel distance and time for a matrix of origins and destinations. The API returns information based on the recommended route between start and end points, as calculated by the Google Maps API, and consists of rows containing duration and distance values for each pair.\n",
    "\n",
    "A Distance Matrix API request takes the following form:\n",
    "\n",
    "https://maps.googleapis.com/maps/api/distancematrix/outputFormat?parameters"
   ]
  },
  {
   "cell_type": "code",
   "execution_count": 3,
   "metadata": {},
   "outputs": [],
   "source": [
    "# base url\n",
    "url = \"https://maps.googleapis.com/maps/api/distancematrix/json?units=imperial&\"\n",
    "\n",
    "# get response\n",
    "r = requests.get(url + \"origins=\" + home + \"&destinations=\" + work + \"&key=\" + api_key)"
   ]
  },
  {
   "cell_type": "code",
   "execution_count": 4,
   "metadata": {},
   "outputs": [
    {
     "data": {
      "text/plain": [
       "{'destination_addresses': ['Kothrud, Pune, Maharashtra, India'],\n",
       " 'origin_addresses': ['Viman Nagar, Pune, Maharashtra 411014, India'],\n",
       " 'rows': [{'elements': [{'distance': {'text': '10.5 mi', 'value': 16891},\n",
       "     'duration': {'text': '41 mins', 'value': 2432},\n",
       "     'status': 'OK'}]}],\n",
       " 'status': 'OK'}"
      ]
     },
     "execution_count": 4,
     "metadata": {},
     "output_type": "execute_result"
    }
   ],
   "source": [
    "r.json()"
   ]
  },
  {
   "cell_type": "code",
   "execution_count": 5,
   "metadata": {},
   "outputs": [],
   "source": [
    "# return time as text and as seconds\n",
    "time = r.json()[\"rows\"][0][\"elements\"][0][\"duration\"][\"text\"]       \n",
    "seconds = r.json()[\"rows\"][0][\"elements\"][0][\"duration\"][\"value\"]"
   ]
  },
  {
   "cell_type": "code",
   "execution_count": 6,
   "metadata": {
    "scrolled": true
   },
   "outputs": [
    {
     "name": "stdout",
     "output_type": "stream",
     "text": [
      "The total travel time from home to work is 41 mins\n"
     ]
    }
   ],
   "source": [
    "# print the travel time\n",
    "print(\"The total travel time from home to work is\", time)"
   ]
  },
  {
   "cell_type": "code",
   "execution_count": 7,
   "metadata": {},
   "outputs": [],
   "source": [
    "TO = 'sushilkhairnar84@gmail.com'\n",
    "FROM = 'sushilk.development@gmail.com' # (You should provide your gmail account name)\n",
    "PASSWORD = os.environ['SUSHIL_PASSWORD']# (You should provide your gmail password)\n",
    "SUBJECT = 'Running Late!!'\n",
    "MESSAGE = f\"\"\"\n",
    "            Hi Sam,\n",
    "            I am running late for work today. It will reach office in around {time}.\n",
    "            \"\"\""
   ]
  },
  {
   "cell_type": "code",
   "execution_count": 8,
   "metadata": {},
   "outputs": [
    {
     "data": {
      "text/plain": [
       "'Email sent Successfully!'"
      ]
     },
     "execution_count": 8,
     "metadata": {},
     "output_type": "execute_result"
    }
   ],
   "source": [
    "Emaill.SendEmail(TO,FROM,PASSWORD,SUBJECT,MESSAGE)"
   ]
  },
  {
   "cell_type": "code",
   "execution_count": null,
   "metadata": {},
   "outputs": [],
   "source": []
  }
 ],
 "metadata": {
  "kernelspec": {
   "display_name": "Python 3",
   "language": "python",
   "name": "python3"
  },
  "language_info": {
   "codemirror_mode": {
    "name": "ipython",
    "version": 3
   },
   "file_extension": ".py",
   "mimetype": "text/x-python",
   "name": "python",
   "nbconvert_exporter": "python",
   "pygments_lexer": "ipython3",
   "version": "3.8.5"
  }
 },
 "nbformat": 4,
 "nbformat_minor": 4
}
