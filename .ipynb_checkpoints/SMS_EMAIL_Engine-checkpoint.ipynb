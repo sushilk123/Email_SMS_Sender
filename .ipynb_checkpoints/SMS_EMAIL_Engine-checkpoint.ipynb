{
 "cells": [
  {
   "cell_type": "code",
   "execution_count": 3,
   "metadata": {},
   "outputs": [],
   "source": [
    "def SendEmail(TO,FROM,PASSWORD,SUBJECT,MESSAGE):\n",
    "    import smtplib,ssl  #Python’s built-in module for sending emails to any Internet machine with an SMTP or ESMTP listener daemon.\n",
    "    import os\n",
    "    smtpserver = smtplib.SMTP(\"smtp.gmail.com\",587)\n",
    "    context = ssl.create_default_context() # Create a secure SSL context\n",
    "    \n",
    "    # Try to log in to server and send email\n",
    "    try:\n",
    "        smtpserver.ehlo()  # (Extended Hello)=>  tells the server that the client want to use the Extended SMTP (ESMTP) protocol.\n",
    "        smtpserver.starttls(context=context) #(Start Transport Layer Security)\n",
    "        smtpserver.ehlo\n",
    "        smtpserver.login(FROM, PASSWORD)\n",
    "        header = 'To: ' + TO + '\\n' + 'From: ' + FROM + '\\n' + 'Subject: ' + SUBJECT + '\\n'\n",
    "\n",
    "        text = f'''\n",
    "        {MESSAGE}\n",
    "        \n",
    "        Regards,\n",
    "        Sushil\n",
    "        www.sushilkhairnar.com\n",
    "        '''\n",
    "        MESSAGE = header + text\n",
    "        smtpserver.sendmail(FROM, TO, MESSAGE)\n",
    "    except Exception as e:\n",
    "        # Print any error messages to stdout\n",
    "        print(e)\n",
    "    return ('Email sent Successfully!')\n",
    "    smtpserver.close()"
   ]
  },
  {
   "cell_type": "code",
   "execution_count": 5,
   "metadata": {},
   "outputs": [],
   "source": [
    "def SendSMS(phone_number,MESSAGE):\n",
    "    import requests\n",
    "    import os\n",
    "    url = \"https://www.fast2sms.com/dev/bulk\"\n",
    "    authorization_key = os.environ['FAST2SMS_API_AUTHORIZATION_KEY']\n",
    "    sender_id='SMSINI'\n",
    "    message = f'''\n",
    "        {MESSAGE}\n",
    "        \n",
    "        Regards,\n",
    "        Sushil\n",
    "        www.sushilkhairnar.com\n",
    "        '''\n",
    "    payload = f\"sender_id={sender_id}&message={message}&language=english&route=p&numbers={phone_number}\"\n",
    "    headers = {\n",
    "    'authorization': authorization_key,\n",
    "    'Content-Type': \"application/x-www-form-urlencoded\",\n",
    "    'Cache-Control': \"no-cache\",\n",
    "    }\n",
    "    response = requests.request(\"POST\", url, data=payload, headers=headers)\n",
    "    return (response.text)"
   ]
  },
  {
   "cell_type": "code",
   "execution_count": null,
   "metadata": {},
   "outputs": [],
   "source": []
  }
 ],
 "metadata": {
  "kernelspec": {
   "display_name": "Python 3",
   "language": "python",
   "name": "python3"
  },
  "language_info": {
   "codemirror_mode": {
    "name": "ipython",
    "version": 3
   },
   "file_extension": ".py",
   "mimetype": "text/x-python",
   "name": "python",
   "nbconvert_exporter": "python",
   "pygments_lexer": "ipython3",
   "version": "3.8.5"
  }
 },
 "nbformat": 4,
 "nbformat_minor": 4
}
